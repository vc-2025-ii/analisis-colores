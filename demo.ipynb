{
 "cells": [
  {
   "cell_type": "markdown",
   "id": "753309ca",
   "metadata": {},
   "source": [
    "# Análisis de imágenes\n",
    "\n",
    "[Incluye en este cuaderno ejemplos claros del uso de las funciones]"
   ]
  },
  {
   "cell_type": "code",
   "execution_count": 1,
   "id": "e96d9dbb",
   "metadata": {},
   "outputs": [
    {
     "name": "stdout",
     "output_type": "stream",
     "text": [
      "Utiliza celdas de texto y código\n"
     ]
    }
   ],
   "source": [
    "# Utiliza celdas de texto y código\n",
    "print(\"Utiliza celdas de texto y código\")"
   ]
  }
 ],
 "metadata": {
  "kernelspec": {
   "display_name": "audio-classification",
   "language": "python",
   "name": "python3"
  },
  "language_info": {
   "codemirror_mode": {
    "name": "ipython",
    "version": 3
   },
   "file_extension": ".py",
   "mimetype": "text/x-python",
   "name": "python",
   "nbconvert_exporter": "python",
   "pygments_lexer": "ipython3",
   "version": "3.8.20"
  }
 },
 "nbformat": 4,
 "nbformat_minor": 5
}
